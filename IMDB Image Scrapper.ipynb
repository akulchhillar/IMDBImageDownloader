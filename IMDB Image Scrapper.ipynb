{
 "cells": [
  {
   "cell_type": "code",
   "execution_count": 97,
   "metadata": {},
   "outputs": [],
   "source": [
    "import os\n",
    "import requests\n",
    "from bs4 import BeautifulSoup as bs"
   ]
  },
  {
   "cell_type": "code",
   "execution_count": 181,
   "metadata": {},
   "outputs": [],
   "source": [
    "n = 1\n",
    "while n<=42:\n",
    "    url = \"http://www.imdb.com/gallery/rg784964352?page=%s&ref_=rgmi_mi_sm\" %(n)\n",
    "    source = requests.get(url) \n",
    "    soup = bs(source.text,\"lxml\")\n",
    "    data =  soup.find(\"div\",class_=\"media_index_thumb_list\")\n",
    "    for i in  data.find_all(\"a\"):\n",
    "        name =  i[\"title\"]\n",
    "        src = i.find(\"img\")[\"src\"].split(\"@\")[0] +\"@._V1_QL50_SY1000_CR0,0,1502,1000_AL_.jpg\"\n",
    "        ext = i.find(\"img\")[\"src\"].split(\".\")[-1]\n",
    "        res = requests.get(src)\n",
    "        try:\n",
    "            f = open(\"%s.%s\" %(name,ext) ,\"wb\" )\n",
    "            f.write(requests.get(src).content)\n",
    "            f.close()\n",
    "        except:\n",
    "            pass\n",
    "    n = n + 1"
   ]
  }
 ],
 "metadata": {
  "kernelspec": {
   "display_name": "Python 2",
   "language": "python",
   "name": "python2"
  },
  "language_info": {
   "codemirror_mode": {
    "name": "ipython",
    "version": 2
   },
   "file_extension": ".py",
   "mimetype": "text/x-python",
   "name": "python",
   "nbconvert_exporter": "python",
   "pygments_lexer": "ipython2",
   "version": "2.7.14"
  }
 },
 "nbformat": 4,
 "nbformat_minor": 2
}
